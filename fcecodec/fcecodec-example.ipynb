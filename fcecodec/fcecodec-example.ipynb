{
  "cells": [
    {
      "cell_type": "markdown",
      "metadata": {
        "id": "wQtEE-7leemd"
      },
      "source": [
        "# fcecodec-example for Google Colab\n",
        "\n",
        "<a href=\"https://colab.research.google.com/github/bfut/notebooks/blob/main/fcecodec/fcecodec-example.ipynb\" target=\"_parent\"><img src=\"https://colab.research.google.com/assets/colab-badge.svg\" alt=\"Open In Colab\"/></a>\n",
        "\n",
        "This notebook is a basic example.\n",
        "\n",
        "https://github.com/bfut/fcecodec</br>\n",
        "https://github.com/bfut/notebooks ```/fcecodec/fcecodec-example.ipynb```"
      ]
    },
    {
      "cell_type": "code",
      "source": [
        "!ls -lg\n",
        "!rm -rf fcecodec"
      ],
      "metadata": {
        "id": "qWbsGWvngA_r"
      },
      "execution_count": null,
      "outputs": []
    },
    {
      "cell_type": "code",
      "execution_count": null,
      "metadata": {
        "id": "SEsyM_theemg"
      },
      "outputs": [],
      "source": [
        "!python -m pip install --upgrade pip wheel setuptools pybind11\n",
        "!git clone https://github.com/bfut/fcecodec\n",
        "!python -m pip install --verbose fcecodec/python"
      ]
    },
    {
      "cell_type": "markdown",
      "source": [
        "Install ```wurlitzer``` which captures console output of library functions. This is only necessary for Google Colab:"
      ],
      "metadata": {
        "id": "DDDfO1jtuwwi"
      }
    },
    {
      "cell_type": "code",
      "source": [
        "# https://github.com/minrk/wurlitzer\n",
        "# Capture C-level stdout/stderr\n",
        "!pip install wurlitzer\n",
        "from wurlitzer import pipes\n",
        "\n",
        "# with pipes() as (out, err):\n",
        "#     call_some_c_function()\n",
        "# print(out.read())"
      ],
      "metadata": {
        "id": "o0T-7kL4gSKb"
      },
      "execution_count": null,
      "outputs": []
    },
    {
      "cell_type": "code",
      "execution_count": null,
      "metadata": {
        "id": "TDVpN4_Beemj"
      },
      "outputs": [],
      "source": [
        "import fcecodec\n",
        "help(fcecodec)  # smoketest"
      ]
    },
    {
      "cell_type": "code",
      "execution_count": null,
      "metadata": {
        "id": "4qW-ZZdOeemk"
      },
      "outputs": [],
      "source": [
        "filepath_fce_input = \"fcecodec/tests/fce/Snowman_car.fce\"\n",
        "filepath_fce_output = \"fcecodec/tests/fce/car_output.fce\"\n",
        "filepath_fce_input2 = \"fcecodec/tests/fce/Snowman_car.fce\""
      ]
    },
    {
      "cell_type": "code",
      "execution_count": null,
      "metadata": {
        "id": "-1GANAsEeeml"
      },
      "outputs": [],
      "source": [
        "with pipes() as (out, err):\n",
        "    with open(filepath_fce_input, \"rb\") as f:\n",
        "        fce_buf = f.read()\n",
        "\n",
        "    # Print FCE stats\n",
        "    fcecodec.PrintFceInfo(fce_buf)\n",
        "print(out.read())"
      ]
    },
    {
      "cell_type": "code",
      "execution_count": null,
      "metadata": {
        "id": "8DVE__gYeemn"
      },
      "outputs": [],
      "source": [
        "# Create Mesh object\n",
        "mesh = fcecodec.Mesh()\n",
        "\n",
        "# Load FCE data to Mesh object\n",
        "mesh.IoDecode(fce_buf)\n",
        "\n",
        "with pipes() as (out, err):\n",
        "    # Print Mesh object stats\n",
        "    print(mesh.MNumParts)\n",
        "    print(mesh.MNumTriags)\n",
        "    print(mesh.MNumVerts)\n",
        "    mesh.PrintInfo()\n",
        "\n",
        "    # Validate Mesh object\n",
        "    assert(mesh.MValid() == 1)\n",
        "print(out.read())"
      ]
    },
    {
      "cell_type": "code",
      "source": [
        "# Merge parts 0, 3 to new part\n",
        "new_pid = mesh.OpMergeParts(0, 3)\n",
        "assert(new_pid != -1)"
      ],
      "metadata": {
        "id": "bRmtXHR6h6Ag"
      },
      "execution_count": null,
      "outputs": []
    },
    {
      "cell_type": "code",
      "source": [
        "# Copy part 1\n",
        "new_pid = mesh.OpCopyPart(1)\n",
        "assert(new_pid != -1)"
      ],
      "metadata": {
        "id": "g8mPx8eXh-TB"
      },
      "execution_count": null,
      "outputs": []
    },
    {
      "cell_type": "code",
      "source": [
        "with pipes() as (out, err):\n",
        "    # Print Mesh object stats\n",
        "    print(mesh.MNumParts)\n",
        "    print(mesh.MNumTriags)\n",
        "    print(mesh.MNumVerts)\n",
        "    mesh.PrintInfo()\n",
        "\n",
        "    # Validate Mesh object\n",
        "    assert(mesh.MValid() == 1)\n",
        "print(out.read())"
      ],
      "metadata": {
        "id": "SVzCagZQiNH0"
      },
      "execution_count": null,
      "outputs": []
    },
    {
      "cell_type": "code",
      "source": [
        "# Insert/copy part 1 from mesh_src to mesh\n",
        "with open(filepath_fce_input2, \"rb\") as f:\n",
        "    fce_buf2 = f.read()\n",
        "mesh_src = fcecodec.Mesh()\n",
        "mesh_src.IoDecode(fce_buf2)\n",
        "new_pid = mesh.OpInsertPart(mesh_src, 1)\n",
        "assert(new_pid != -1)"
      ],
      "metadata": {
        "id": "POYOD9saicey"
      },
      "execution_count": null,
      "outputs": []
    },
    {
      "cell_type": "code",
      "execution_count": null,
      "metadata": {
        "id": "qU1C8tMteemo"
      },
      "outputs": [],
      "source": [
        "# Encode to FCE4M\n",
        "out_buf = mesh.IoEncode_Fce4M()\n",
        "with open(filepath_fce_output, \"wb\") as f:\n",
        "    f.write(out_buf)\n",
        "\n",
        "!cd fcecodec/tests/fce; ls -lg"
      ]
    },
    {
      "cell_type": "code",
      "source": [
        "with pipes() as (out, err):\n",
        "    with open(filepath_fce_output, \"rb\") as f:\n",
        "        fce_buf2 = f.read()\n",
        "\n",
        "    # Print FCE stats\n",
        "    fcecodec.PrintFceInfo(fce_buf2)\n",
        "print(out.read())"
      ],
      "metadata": {
        "id": "wjp55lFHimIs"
      },
      "execution_count": null,
      "outputs": []
    }
  ],
  "metadata": {
    "interpreter": {
      "hash": "f9d4deea51ff5d1e770b709483c768bbb2160eafa17160ef291f4d64f5df228e"
    },
    "kernelspec": {
      "display_name": "Python 3.7.11 64-bit ('base': conda)",
      "language": "python",
      "name": "python3"
    },
    "language_info": {
      "codemirror_mode": {
        "name": "ipython",
        "version": 3
      },
      "file_extension": ".py",
      "mimetype": "text/x-python",
      "name": "python",
      "nbconvert_exporter": "python",
      "pygments_lexer": "ipython3",
      "version": "3.7.11"
    },
    "orig_nbformat": 4,
    "colab": {
      "name": "fcecodec-example.ipynb",
      "provenance": [],
      "collapsed_sections": []
    }
  },
  "nbformat": 4,
  "nbformat_minor": 0
}
