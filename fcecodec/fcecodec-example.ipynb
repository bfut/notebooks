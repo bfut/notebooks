{
  "cells": [
    {
      "cell_type": "markdown",
      "metadata": {
        "id": "wQtEE-7leemd"
      },
      "source": [
        "# fcecodec-example for Google Colab\n",
        "\n",
        "<a href=\"https://colab.research.google.com/github/bfut/notebooks/blob/main/fcecodec/fcecodec-example.ipynb\" target=\"_parent\"><img src=\"https://colab.research.google.com/assets/colab-badge.svg\" alt=\"Open In Colab\"/></a>\n",
        "\n",
        "Basic example.\n",
        "\n",
        "https://github.com/bfut/fcecodec</br>\n",
        "https://github.com/bfut/notebooks -> ```fcecodec/fcecodec-example.ipynb```"
      ]
    },
    {
      "cell_type": "code",
      "execution_count": null,
      "metadata": {
        "id": "qWbsGWvngA_r"
      },
      "outputs": [],
      "source": [
        "!ls -lg\n",
        "!rm -rf fcecodec"
      ]
    },
    {
      "cell_type": "markdown",
      "metadata": {
        "id": "DDDfO1jtuwwi"
      },
      "source": [
        "Necessary for Jupyter Notebooks only, to capture output of library functions:"
      ]
    },
    {
      "cell_type": "code",
      "execution_count": null,
      "metadata": {},
      "outputs": [],
      "source": [
        "# https://github.com/minrk/wurlitzer\n",
        "!python -m pip install wurlitzer\n",
        "%load_ext wurlitzer"
      ]
    },
    {
      "cell_type": "code",
      "execution_count": null,
      "metadata": {
        "id": "SEsyM_theemg"
      },
      "outputs": [],
      "source": [
        "!python -m pip install --upgrade pip wheel setuptools pybind11\n",
        "!git clone https://github.com/bfut/fcecodec\n",
        "!python -m pip install fcecodec/python\n",
        "import fcecodec"
      ]
    },
    {
      "cell_type": "code",
      "execution_count": null,
      "metadata": {
        "id": "4qW-ZZdOeemk"
      },
      "outputs": [],
      "source": [
        "filepath_fce_input = \"fcecodec/tests/fce/Snowman_car.fce\"\n",
        "filepath_fce_output = \"fcecodec/tests/fce/car_output.fce\"\n",
        "filepath_fce_input2 = \"fcecodec/tests/fce/Snowman_car.fce\"\n",
        "\n",
        "with open(filepath_fce_input, \"rb\") as f:\n",
        "    fce_buf = f.read()"
      ]
    },
    {
      "cell_type": "code",
      "execution_count": null,
      "metadata": {},
      "outputs": [],
      "source": [
        "fcecodec.PrintFceInfo(fce_buf)"
      ]
    },
    {
      "cell_type": "markdown",
      "metadata": {},
      "source": [
        "Load a file."
      ]
    },
    {
      "cell_type": "code",
      "execution_count": null,
      "metadata": {
        "id": "8DVE__gYeemn"
      },
      "outputs": [],
      "source": [
        "mesh = fcecodec.Mesh()\n",
        "mesh.IoDecode(fce_buf)\n",
        "\n",
        "print(mesh.MNumParts)\n",
        "print(mesh.MNumTriags)\n",
        "print(mesh.MNumVerts)\n",
        "mesh.PrintInfo()\n",
        "\n",
        "assert mesh.MValid() == 1"
      ]
    },
    {
      "cell_type": "markdown",
      "metadata": {},
      "source": [
        "Operate on data."
      ]
    },
    {
      "cell_type": "code",
      "execution_count": null,
      "metadata": {
        "id": "bRmtXHR6h6Ag"
      },
      "outputs": [],
      "source": [
        "# Merge parts 0, 3 to new part\n",
        "new_pid = mesh.OpMergeParts(0, 3)\n",
        "assert new_pid != -1"
      ]
    },
    {
      "cell_type": "code",
      "execution_count": null,
      "metadata": {
        "id": "g8mPx8eXh-TB"
      },
      "outputs": [],
      "source": [
        "# Copy part \n",
        "new_pid = mesh.OpCopyPart(1)\n",
        "assert new_pid != -1"
      ]
    },
    {
      "cell_type": "markdown",
      "metadata": {},
      "source": [
        "What has changed?"
      ]
    },
    {
      "cell_type": "code",
      "execution_count": null,
      "metadata": {
        "id": "SVzCagZQiNH0"
      },
      "outputs": [],
      "source": [
        "print(mesh.MNumParts)\n",
        "print(mesh.MNumTriags)\n",
        "print(mesh.MNumVerts)\n",
        "mesh.PrintInfo()\n",
        "\n",
        "assert mesh.MValid() == 1"
      ]
    },
    {
      "cell_type": "markdown",
      "metadata": {},
      "source": [
        "Another operation."
      ]
    },
    {
      "cell_type": "code",
      "execution_count": null,
      "metadata": {
        "id": "POYOD9saicey"
      },
      "outputs": [],
      "source": [
        "# Insert/copy part 1 from mesh_src to mesh\n",
        "with open(filepath_fce_input2, \"rb\") as f:\n",
        "    fce_buf2 = f.read()\n",
        "mesh_src = fcecodec.Mesh()\n",
        "mesh_src.IoDecode(fce_buf2)\n",
        "new_pid = mesh.OpInsertPart(mesh_src, 1)\n",
        "assert new_pid != -1"
      ]
    },
    {
      "cell_type": "markdown",
      "metadata": {},
      "source": [
        "Write result to disk."
      ]
    },
    {
      "cell_type": "code",
      "execution_count": null,
      "metadata": {
        "id": "qU1C8tMteemo"
      },
      "outputs": [],
      "source": [
        "# Encode to FCE4M\n",
        "out_buf = mesh.IoEncode_Fce4M()\n",
        "with open(filepath_fce_output, \"wb\") as f:\n",
        "    f.write(out_buf)\n",
        "\n",
        "!cd fcecodec/tests/fce; ls -lg"
      ]
    },
    {
      "cell_type": "code",
      "execution_count": null,
      "metadata": {
        "id": "wjp55lFHimIs"
      },
      "outputs": [],
      "source": [
        "with open(filepath_fce_output, \"rb\") as f:\n",
        "    fce_buf2 = f.read()\n",
        "fcecodec.PrintFceInfo(fce_buf2)"
      ]
    }
  ],
  "metadata": {
    "colab": {
      "collapsed_sections": [],
      "name": "fcecodec-example.ipynb",
      "provenance": []
    },
    "kernelspec": {
      "display_name": "Python 3.10.4 ('foo')",
      "language": "python",
      "name": "python3"
    },
    "language_info": {
      "codemirror_mode": {
        "name": "ipython",
        "version": 3
      },
      "file_extension": ".py",
      "mimetype": "text/x-python",
      "name": "python",
      "nbconvert_exporter": "python",
      "pygments_lexer": "ipython3",
      "version": "3.10.4"
    },
    "orig_nbformat": 4,
    "vscode": {
      "interpreter": {
        "hash": "4379569238dbedbcdeab4e868f5afde339d9f5485a61add292855da89ff47995"
      }
    }
  },
  "nbformat": 4,
  "nbformat_minor": 0
}
