{
 "cells": [
  {
   "cell_type": "markdown",
   "metadata": {
    "id": "wQtEE-7leemd"
   },
   "source": [
    "# fcecodec-example for Google Colab\n",
    "\n",
    "<a href=\"https://colab.research.google.com/github/bfut/notebooks/blob/main/fcecodec/fcecodec-example.ipynb\" target=\"_parent\"><img src=\"https://colab.research.google.com/assets/colab-badge.svg\" alt=\"Open In Colab\"/></a>\n",
    "\n",
    "Basic example.\n",
    "\n",
    "https://github.com/bfut/fcecodec<br>\n",
    "https://github.com/bfut/notebooks -> ```fcecodec/fcecodec-example.ipynb```"
   ]
  },
  {
   "cell_type": "markdown",
   "metadata": {},
   "source": [
    "## Installation\n",
    "\n",
    "1. Run the below installation cell\n",
    "2. Google Colab: It may be necessary to restart the runtime after installation (Runtime > Restart runtime)\n",
    "3. Afterwards proceed below (importing the module, etc.)"
   ]
  },
  {
   "cell_type": "code",
   "execution_count": null,
   "metadata": {},
   "outputs": [],
   "source": [
    "!git clone https://github.com/bfut/fcecodec\n",
    "!python -m pip install --verbose --upgrade ./fcecodec"
   ]
  },
  {
   "cell_type": "markdown",
   "metadata": {},
   "source": [
    "## Set parameters"
   ]
  },
  {
   "cell_type": "code",
   "execution_count": null,
   "metadata": {},
   "outputs": [],
   "source": [
    "import fcecodec as fc"
   ]
  },
  {
   "cell_type": "code",
   "execution_count": null,
   "metadata": {},
   "outputs": [],
   "source": [
    "filepath_fce_input = \"fcecodec/tests/fce/Snowman_car.fce\"\n",
    "filepath_fce_output = \"fcecodec/tests/fce/car_output.fce\"\n",
    "filepath_fce_input2 = \"fcecodec/tests/fce/Snowman_car.fce\"\n",
    "\n",
    "with open(filepath_fce_input, \"rb\") as f:\n",
    "    fce_buf = f.read()"
   ]
  },
  {
   "cell_type": "code",
   "execution_count": null,
   "metadata": {},
   "outputs": [],
   "source": [
    "fc.PrintFceInfo(fce_buf)"
   ]
  },
  {
   "cell_type": "markdown",
   "metadata": {},
   "source": [
    "## Load a file"
   ]
  },
  {
   "cell_type": "code",
   "execution_count": null,
   "metadata": {},
   "outputs": [],
   "source": [
    "mesh = fc.Mesh()\n",
    "mesh.IoDecode(fce_buf)\n",
    "\n",
    "print(mesh.MNumParts)\n",
    "print(mesh.MNumTriags)\n",
    "print(mesh.MNumVerts)\n",
    "mesh.PrintInfo()\n",
    "\n",
    "assert mesh.MValid() == 1"
   ]
  },
  {
   "cell_type": "markdown",
   "metadata": {},
   "source": [
    "## Operate on data"
   ]
  },
  {
   "cell_type": "code",
   "execution_count": null,
   "metadata": {},
   "outputs": [],
   "source": [
    "# Merge parts 0, 3 to new part\n",
    "new_pid = mesh.OpMergeParts(0, 3)\n",
    "assert new_pid != -1"
   ]
  },
  {
   "cell_type": "code",
   "execution_count": null,
   "metadata": {},
   "outputs": [],
   "source": [
    "# Copy part \n",
    "new_pid = mesh.OpCopyPart(1)\n",
    "assert new_pid != -1"
   ]
  },
  {
   "cell_type": "markdown",
   "metadata": {},
   "source": [
    "What has changed?"
   ]
  },
  {
   "cell_type": "code",
   "execution_count": null,
   "metadata": {},
   "outputs": [],
   "source": [
    "print(mesh.MNumParts)\n",
    "print(mesh.MNumTriags)\n",
    "print(mesh.MNumVerts)\n",
    "mesh.PrintInfo()\n",
    "\n",
    "assert mesh.MValid() == 1"
   ]
  },
  {
   "cell_type": "markdown",
   "metadata": {},
   "source": [
    "Another operation"
   ]
  },
  {
   "cell_type": "code",
   "execution_count": null,
   "metadata": {},
   "outputs": [],
   "source": [
    "# Insert/copy part 1 from mesh_src to mesh\n",
    "with open(filepath_fce_input2, \"rb\") as f:\n",
    "    fce_buf2 = f.read()\n",
    "mesh_src = fc.Mesh()\n",
    "mesh_src.IoDecode(fce_buf2)\n",
    "new_pid = mesh.OpInsertPart(mesh_src, 1)\n",
    "assert new_pid != -1"
   ]
  },
  {
   "cell_type": "markdown",
   "metadata": {},
   "source": [
    "## Write result to disk"
   ]
  },
  {
   "cell_type": "code",
   "execution_count": null,
   "metadata": {},
   "outputs": [],
   "source": [
    "# Encode to FCE4M\n",
    "out_buf = mesh.IoEncode_Fce4M()\n",
    "with open(filepath_fce_output, \"wb\") as f:\n",
    "    f.write(out_buf)\n",
    "\n",
    "!cd fcecodec/tests/fce; ls -lg"
   ]
  },
  {
   "cell_type": "code",
   "execution_count": null,
   "metadata": {},
   "outputs": [],
   "source": [
    "with open(filepath_fce_output, \"rb\") as f:\n",
    "    fce_buf2 = f.read()\n",
    "fc.PrintFceInfo(fce_buf2)"
   ]
  }
 ],
 "metadata": {
  "language_info": {
   "name": "python"
  }
 },
 "nbformat": 4,
 "nbformat_minor": 0
}
