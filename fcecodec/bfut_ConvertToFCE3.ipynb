{
 "cells": [
  {
   "attachments": {},
   "cell_type": "markdown",
   "metadata": {},
   "source": [
    "Copyright (C) 2023 Benjamin Futasz"
   ]
  },
  {
   "cell_type": "code",
   "execution_count": null,
   "metadata": {},
   "outputs": [],
   "source": [
    "import pathlib\n",
    "\n",
    "import fcecodec\n",
    "\n",
    "py_scriptsdir = f\"./PyScripts/\"\n",
    "fcec_scriptsdir = f\"./scripts/\"\n",
    "fshtool = f\"./fshtool\"\n",
    "unvivtool_script = f\"./unvivtool_script.py\"\n",
    "\n",
    "fce_path_input = f\"car.fce\"\n",
    "fce_path_output = f\"car.fce\"\n",
    "\n",
    "fsh_path_input = f\"file.fsh\"\n",
    "\n",
    "car00tga_input = f\"car00.tga\"\n",
    "car00tga_output = f\"car00.tga\"\n",
    "\n",
    "viv_source_dir = f\"car_viv\"\n",
    "\n",
    "fce_path_colorsource = f\"car.fce\"\n",
    "\n",
    "fce_version_target = 3"
   ]
  },
  {
   "cell_type": "code",
   "execution_count": null,
   "metadata": {},
   "outputs": [],
   "source": [
    "if fce_version_target in [\"4M\", \"4m\"]:\n",
    "    fce_version_target = 5\n",
    "assert fce_version_target in [ 3, 4, 5]\n",
    "\n",
    "def GetFceVersion(path):\n",
    "    with open(path, \"rb\") as f:\n",
    "        version = fcecodec.GetFceVersion(f.read(0x2038))\n",
    "        assert version > 0\n",
    "        return version\n",
    "\n",
    "input_fce_version = GetFceVersion(fce_path_input)\n",
    "print(input_fce_version)"
   ]
  },
  {
   "cell_type": "code",
   "execution_count": null,
   "metadata": {},
   "outputs": [],
   "source": [
    "# Convert from FCE4M to FCE4, if applicable:\n",
    "current_fce_version = GetFceVersion(fce_path_input)\n",
    "if current_fce_version == 5 and fce_version_target < 5:\n",
    "    pass\n",
    "    !python \"{fcec_scriptsdir}\"\"bfut_PrintFceInfo.py\" \"{fce_path_input}\"\n",
    "    !echo \"bfut_MergeParts (FceM to Fce4, keep version).py\"\n",
    "    !python \"{fcec_scriptsdir}\"\"bfut_MergeParts (FceM to Fce4, keep version).py\" 1 0 1 \"{fce_path_input}\" \"{fce_path_output}\"\n",
    "    !echo DONE \"bfut_MergeParts (FceM to Fce4, keep version).py\"\n",
    "    !python \"{fcec_scriptsdir}\"\"bfut_SaveFceAsFce4.py\" \"{fce_path_output}\" \"{fce_path_output}\"\n",
    "    !python \"{fcec_scriptsdir}\"\"bfut_CopyCarColors.py\" \"{fce_path_colorsource}\" \"{fce_path_output}\"\n",
    "\n",
    "    # !python \"{fcec_scriptsdir}\"\"bfut_PrintFceInfo.py\" \"{fce_path_output}\"\n",
    "    fce_path_input = fce_path_output"
   ]
  },
  {
   "cell_type": "code",
   "execution_count": null,
   "metadata": {},
   "outputs": [],
   "source": [
    "# Convert from FCE4 to FCE3, if applicable\n",
    "current_fce_version = GetFceVersion(fce_path_input)\n",
    "if current_fce_version == 4 and fce_version_target < 4:\n",
    "    pass\n",
    "    !python \"{fcec_scriptsdir}\"\"bfut_PrintFceInfo.py\" \"{fce_path_input}\"\n",
    "    !echo \"bfut_MergeParts (Fce4 to Fce3, keep version).py\"\n",
    "    !python \"{fcec_scriptsdir}\"\"bfut_MergeParts (Fce4 to Fce3, keep version).py\" 1 opaque \"{fce_path_input}\" \"{fce_path_output}\"\n",
    "    !echo \"DONE bfut_MergeParts (Fce4 to Fce3, keep version).py\"\n",
    "    !python \"{fcec_scriptsdir}\"\"bfut_SortPartsToFce3Order (keep fce version).py\" \"{fce_path_output}\" \"{fce_path_output}\"\n",
    "    !python \"{fcec_scriptsdir}\"\"bfut_ConvertDummiesToFce3.py\" \"{fce_path_output}\" \"{fce_path_output}\"\n",
    "    !python \"{fcec_scriptsdir}\"\"bfut_SaveFceAsFce3.py\" \"{fce_path_output}\" \"{fce_path_output}\"\n",
    "    # !python \"{fcec_scriptsdir}\"\"bfut_PrintFceInfo.py\" \"{fce_path_output}\"\n",
    "\n",
    "with open(fce_path_output, \"rb\") as f:\n",
    "    assert fcecodec.ValidateFce(f.read()) == 1"
   ]
  },
  {
   "attachments": {},
   "cell_type": "markdown",
   "metadata": {},
   "source": [
    "Convert FSH to TGA"
   ]
  },
  {
   "cell_type": "code",
   "execution_count": null,
   "metadata": {},
   "outputs": [],
   "source": [
    "if type(fsh_path_input) is str and len(fsh_path_input) > 0:\n",
    "    pass\n",
    "    p = pathlib.Path(fsh_path_input)\n",
    "    car00tga_input = p.with_suffix(\".tga\")\n",
    "\n",
    "    !{fshtool} \"{fsh_path_input}\"\n",
    "    BMP = (p.parent / p.stem / \"0000\").with_suffix(\".BMP\")\n",
    "    BMPA = (p.parent / p.stem / \"0000-a\").with_suffix(\".BMP\")\n",
    "    !convert \"{BMP}\" \"{BMPA}\" -auto-orient -alpha off -compose CopyOpacity -composite \"{car00tga_input}\""
   ]
  },
  {
   "attachments": {},
   "cell_type": "markdown",
   "metadata": {},
   "source": [
    "Convert TGA alpha channel to target version"
   ]
  },
  {
   "cell_type": "code",
   "execution_count": null,
   "metadata": {},
   "outputs": [],
   "source": [
    "!cp \"{car00tga_input}\" \"{car00tga_output}\"\n",
    "!python \"{py_scriptsdir}\"\"bfut_TextureRotator/bfut_TextureRotator (flip vertically).py\" \"{car00tga_output}\" \"{car00tga_output}\"\n",
    "\n",
    "if fce_version_target == 3:\n",
    "    if input_fce_version == 4:\n",
    "        pass\n",
    "        !python \"{py_scriptsdir}\"\"bfut_NfsTgaConverter/bfut_NfsTgaConverter (HSto3).py\" \"{car00tga_output}\" \"{car00tga_output}\"\n",
    "    elif input_fce_version == 5:\n",
    "        pass\n",
    "        !python \"{py_scriptsdir}\"\"bfut_NfsTgaConverter/bfut_NfsTgaConverter (Mto3).py\" \"{car00tga_output}\" \"{car00tga_output}\""
   ]
  },
  {
   "attachments": {},
   "cell_type": "markdown",
   "metadata": {},
   "source": [
    "Create VIV archive"
   ]
  },
  {
   "cell_type": "code",
   "execution_count": null,
   "metadata": {},
   "outputs": [],
   "source": [
    "!python {unvivtool_script} e \"{viv_source_dir}\""
   ]
  }
 ],
 "metadata": {
  "language_info": {
   "name": "python"
  }
 },
 "nbformat": 4,
 "nbformat_minor": 0
}
