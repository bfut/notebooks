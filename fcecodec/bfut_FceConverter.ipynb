{
 "cells": [
  {
   "cell_type": "code",
   "execution_count": null,
   "metadata": {},
   "outputs": [],
   "source": [
    "# Author: bfut <https://github.com/bfut> (zlib License)"
   ]
  },
  {
   "attachments": {},
   "cell_type": "markdown",
   "metadata": {},
   "source": [
    "# Description\n",
    "\n",
    "This notebook is a step-by-step converter for FCE files between FCE3, FCE4, and FCE4M formats.\n",
    "\n",
    "Handles renaming parts, merging parts, reordering parts, renaming dummies, scaling model size, etc., where applicable.\n",
    "\n",
    "Also converts texture alpha channel. For FCE3 and FCE4, the source is a TGA file. For FCE4M, the source is an FSH file.\n",
    "\n",
    "Conversion flows: \n",
    "```\n",
    "    FCE4M -> FCE4 -> FCE3\n",
    "    FCE3  -> FCE4 -> FCE4M\n",
    "\n",
    "    Ex: an FCE4M file can be converted to FCE4 and FCE3\n",
    "        an FCE4 file can be converted to FCE4M and FCE3\n",
    "        an FCE3 file can be converted to FCE4 and FCE4M\n",
    "```\n",
    "The input file format is automatically determined. The target format is set as a parameter. See *Parameterize Notebook* for the how-to.\n",
    "\n",
    "# Purpose\n",
    "\n",
    "This notebook can produce a game-ready and finished VIV archive in seconds, avoiding manual chores.\n",
    "\n",
    "Preview and prepare your work for multiple games at the same time.\n",
    "\n",
    "# Required tools\n",
    "\n",
    "`Python 3.8 or later`: Windows or Linux, either is possible. *Note:* Windows users may want to consider using WSL\n",
    "\n",
    "`fcecodec`: https://github.com/bfut/fcecodec (install Python module)\n",
    "\n",
    "`unvivtool`: https://github.com/bfut/unvivtool (install Python module)\n",
    "\n",
    "`bfut_NfsTgaConverter.py`: https://github.com/bfut/PyScripts (download)\n",
    "\n",
    "`bfut_TextureRotator.py`: https://github.com/bfut/PyScripts (download)\n",
    "\n",
    "`bfut_Tga2Bmp.py`: https://github.com/bfut/PyScripts (download)\n",
    "\n",
    "`ImageMagick`: https://imagemagick.org/script/download.php (executable) *Note:* only required when working with FSH files\n",
    "\n",
    "`fshtool v1.22`: https://klein.mit.edu/~auroux/software/fshtool.zip (executable) *Note:* only required when working with FSH files\n",
    "\n",
    "# Workload"
   ]
  },
  {
   "attachments": {},
   "cell_type": "markdown",
   "metadata": {},
   "source": [
    "### Parameterize Notebook\n",
    "\n",
    "Tools\n",
    "1. `py_scriptsdir` path to a local copy of the `bfut/PyScripts` repository\n",
    "1. `fcecodec_dir` path to a local copy of the `bfut/fcecodec` repository\n",
    "1. `fshtool` path to an `fshtool` executable\n",
    "1. `unvivtool_script` path to a local copy of `unvivtool_script.py` from the `bfut/unvivtool` repository\n",
    "\n",
    "Files\n",
    "1. `fce_path_input` path to the source FCE file (can be FCE3, FCE4, or FCE4M)\n",
    "1. `fce_path_output` will be path to the output FCE file\n",
    "1. `fsh_path_input` path to an optional source texture in FSH format. Only used, when source file is in FCE4M format.\n",
    "1. `car00tga_input` path to an optional source texture in TGA format. Only used, when source file is not in FCE4M format.\n",
    "1. `viv_source_dir` path to the directory whose files will be encoded to the finished VIV archive. Output FCE and texture file should be written to this directory.\n",
    "1. `fce_path_colorsource` path to an optional source FCE file whose colors will be copied to the output FCE file, if desired.\n",
    "\n",
    "Misc\n",
    "1. `copy_color` copy colors from another FCE file (`True` or `False`)\n",
    "1. `flip_vertically` sometimes a texture has to be flipped vertically (`True` or `False`)\n",
    "1. `fce_version_target` determines the output FCE format. Set to `3`, `4` or `5` for FCE3, FCE4, or FCE4M, respectively."
   ]
  },
  {
   "cell_type": "code",
   "execution_count": null,
   "metadata": {},
   "outputs": [],
   "source": [
    "import pathlib\n",
    "\n",
    "import fcecodec\n",
    "\n",
    "py_scriptsdir = f\"./PyScripts/\"\n",
    "fcecodec_dir = f\"./fcecodec/\"\n",
    "fshtool = f\"./fshtool\"\n",
    "unvivtool = f\"./unvivtool_script.py\"\n",
    "\n",
    "fce_path_input = f\"car.fce\"\n",
    "fce_path_output = f\"car.fce\"\n",
    "\n",
    "fsh_path_input = f\"file.fsh\"\n",
    "\n",
    "car00tga_input = f\"car00.tga\"\n",
    "car00tga_output = f\"car00.tga\"\n",
    "\n",
    "viv_source_dir = f\"car_viv\"\n",
    "\n",
    "fce_path_colorsource = f\"car.fce\"\n",
    "\n",
    "copy_color = True\n",
    "flip_vertically = True\n",
    "\n",
    "fce_version_target = 3"
   ]
  },
  {
   "cell_type": "code",
   "execution_count": null,
   "metadata": {},
   "outputs": [],
   "source": [
    "if fce_version_target in [\"4M\", \"4m\"]:\n",
    "    fce_version_target = 5\n",
    "fce_version_target = int(fce_version_target)\n",
    "assert fce_version_target in [3, 4, 5]\n",
    "\n",
    "def GetFceVersion(path):\n",
    "    with open(path, \"rb\") as f:\n",
    "        version = fcecodec.GetFceVersion(f.read(0x2038))\n",
    "        assert version > 0\n",
    "        return version\n",
    "\n",
    "input_fce_version = GetFceVersion(fce_path_input)\n",
    "print(input_fce_version)"
   ]
  },
  {
   "attachments": {},
   "cell_type": "markdown",
   "metadata": {},
   "source": [
    "Convert from FCE4M to FCE4, if applicable"
   ]
  },
  {
   "cell_type": "code",
   "execution_count": null,
   "metadata": {},
   "outputs": [],
   "source": [
    "current_fce_version = GetFceVersion(fce_path_input)\n",
    "if current_fce_version == 5 and fce_version_target < 5:\n",
    "    pass\n",
    "    !python \"{fcecodec_dir}/scripts/\"\"bfut_PrintFceInfo.py\" \"{fce_path_input}\"\n",
    "    !python \"{fcecodec_dir}/scripts/\"\"bfut_MergeParts (FceM to Fce4, keep version).py\" 1 0 1 \"{fce_path_input}\" \"{fce_path_output}\"\n",
    "    !python \"{fcecodec_dir}/scripts/\"\"bfut_SaveFceAsFce4.py\" \"{fce_path_output}\" \"{fce_path_output}\"\n",
    "\n",
    "    fce_path_input = fce_path_output"
   ]
  },
  {
   "attachments": {},
   "cell_type": "markdown",
   "metadata": {},
   "source": [
    "Convert from FCE4 to FCE3, if applicable\n"
   ]
  },
  {
   "cell_type": "code",
   "execution_count": null,
   "metadata": {},
   "outputs": [],
   "source": [
    "current_fce_version = GetFceVersion(fce_path_input)\n",
    "if current_fce_version == 4 and fce_version_target < 4:\n",
    "    pass\n",
    "    !python \"{fcecodec_dir}/scripts/\"\"bfut_PrintFceInfo.py\" \"{fce_path_input}\"\n",
    "    !python \"{fcecodec_dir}/scripts/\"\"bfut_MergeParts (Fce4 to Fce3, keep version).py\" 1 opaque \"{fce_path_input}\" \"{fce_path_output}\"\n",
    "    !echo \"DONE bfut_MergeParts (Fce4 to Fce3, keep version).py\"\n",
    "    !python \"{fcecodec_dir}/scripts/\"\"bfut_SortPartsToFce3Order (keep fce version).py\" \"{fce_path_output}\" \"{fce_path_output}\"\n",
    "    !python \"{fcecodec_dir}/scripts/\"\"bfut_ConvertDummiesToFce3.py\" \"{fce_path_output}\" \"{fce_path_output}\"\n",
    "    !python \"{fcecodec_dir}/scripts/\"\"bfut_SaveFceAsFce3.py\" \"{fce_path_output}\" \"{fce_path_output}\"\n",
    "\n",
    "with open(fce_path_output, \"rb\") as f:\n",
    "    assert fcecodec.ValidateFce(f.read()) == 1"
   ]
  },
  {
   "attachments": {},
   "cell_type": "markdown",
   "metadata": {},
   "source": [
    "Optionally copy colors"
   ]
  },
  {
   "cell_type": "code",
   "execution_count": null,
   "metadata": {},
   "outputs": [],
   "source": [
    "if copy_color:\n",
    "    pass\n",
    "    !python \"{fcecodec_dir}/scripts/\"\"bfut_CopyCarColors.py\" \"{fce_path_colorsource}\" \"{fce_path_output}\""
   ]
  },
  {
   "attachments": {},
   "cell_type": "markdown",
   "metadata": {},
   "source": [
    "Convert FSH to TGA, if applicable"
   ]
  },
  {
   "cell_type": "code",
   "execution_count": null,
   "metadata": {},
   "outputs": [],
   "source": [
    "if input_fce_version == 5 and fce_version_target < 5 and type(fsh_path_input) is str and len(fsh_path_input) > 0:\n",
    "    pass\n",
    "    p = pathlib.Path(fsh_path_input)\n",
    "    car00tga_input = p.with_suffix(\".tga\")\n",
    "\n",
    "    !{fshtool} \"{fsh_path_input}\"\n",
    "    BMP = (p.parent / p.stem / \"0000\").with_suffix(\".BMP\")\n",
    "    BMPA = (p.parent / p.stem / \"0000-a\").with_suffix(\".BMP\")\n",
    "    !convert \"{BMP}\" \"{BMPA}\" -auto-orient -alpha off -compose CopyOpacity -composite \"{car00tga_input}\""
   ]
  },
  {
   "attachments": {},
   "cell_type": "markdown",
   "metadata": {},
   "source": [
    "Convert TGA alpha channel to target version"
   ]
  },
  {
   "cell_type": "code",
   "execution_count": null,
   "metadata": {},
   "outputs": [],
   "source": [
    "!cp \"{car00tga_input}\" \"{car00tga_output}\"\n",
    "\n",
    "if flip_vertically:\n",
    "    pass\n",
    "    !python \"{py_scriptsdir}\"\"bfut_TextureRotator/bfut_TextureRotator (flip vertically).py\" \"{car00tga_output}\" \"{car00tga_output}\"\n",
    "\n",
    "if fce_version_target == 3:\n",
    "    if input_fce_version == 4:\n",
    "        pass\n",
    "        !python \"{py_scriptsdir}\"\"bfut_NfsTgaConverter/bfut_NfsTgaConverter (HSto3).py\" \"{car00tga_output}\" \"{car00tga_output}\"\n",
    "    elif input_fce_version == 5:\n",
    "        pass\n",
    "        !python \"{py_scriptsdir}\"\"bfut_NfsTgaConverter/bfut_NfsTgaConverter (Mto3).py\" \"{car00tga_output}\" \"{car00tga_output}\"\n",
    "elif fce_version_target == 4:\n",
    "    if input_fce_version == 3:\n",
    "        pass\n",
    "        !python \"{py_scriptsdir}\"\"bfut_NfsTgaConverter/bfut_NfsTgaConverter (3toHS).py\" \"{car00tga_output}\" \"{car00tga_output}\"\n",
    "    elif input_fce_version == 5:\n",
    "        pass\n",
    "        !python \"{py_scriptsdir}\"\"bfut_NfsTgaConverter/bfut_NfsTgaConverter (MtoHS).py\" \"{car00tga_output}\" \"{car00tga_output}\"\n",
    "elif fce_version_target == 5:\n",
    "    if input_fce_version == 3:\n",
    "        pass\n",
    "        !python \"{py_scriptsdir}\"\"bfut_NfsTgaConverter/bfut_NfsTgaConverter (3toM).py\" \"{car00tga_output}\" \"{car00tga_output}\"\n",
    "    elif input_fce_version == 4:\n",
    "        pass\n",
    "        !python \"{py_scriptsdir}\"\"bfut_NfsTgaConverter/bfut_NfsTgaConverter (HStoM).py\" \"{car00tga_output}\" \"{car00tga_output}\""
   ]
  },
  {
   "attachments": {},
   "cell_type": "markdown",
   "metadata": {},
   "source": [
    "Create VIV archive"
   ]
  },
  {
   "cell_type": "code",
   "execution_count": null,
   "metadata": {},
   "outputs": [],
   "source": [
    "!python \"{unvivtool}\" e \"{viv_source_dir}\""
   ]
  },
  {
   "cell_type": "code",
   "execution_count": null,
   "metadata": {},
   "outputs": [],
   "source": [
    "# Copyright (C) 2023 and later Benjamin Futasz <https://github.com/bfut>\n",
    "#\n",
    "# This software is provided 'as-is', without any express or implied\n",
    "# warranty.  In no event will the authors be held liable for any damages\n",
    "# arising from the use of this software.\n",
    "#\n",
    "# Permission is granted to anyone to use this software for any purpose,\n",
    "# including commercial applications, and to alter it and redistribute it\n",
    "# freely, subject to the following restrictions:\n",
    "#\n",
    "# 1. The origin of this software must not be misrepresented; you must not\n",
    "#    claim that you wrote the original software. If you use this software\n",
    "#    in a product, an acknowledgment in the product documentation would be\n",
    "#    appreciated but is not required.\n",
    "# 2. Altered source versions must be plainly marked as such, and must not be\n",
    "#    misrepresented as being the original software.\n",
    "# 3. This notice may not be removed or altered from any source distribution."
   ]
  }
 ],
 "metadata": {
  "language_info": {
   "name": "python"
  }
 },
 "nbformat": 4,
 "nbformat_minor": 0
}
